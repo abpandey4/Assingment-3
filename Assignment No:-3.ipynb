{
 "cells": [
  {
   "cell_type": "markdown",
   "metadata": {},
   "source": [
    "# Assingment No 3"
   ]
  },
  {
   "cell_type": "markdown",
   "metadata": {},
   "source": [
    "## Statistics 1"
   ]
  },
  {
   "cell_type": "code",
   "execution_count": 1,
   "metadata": {},
   "outputs": [
    {
     "name": "stdout",
     "output_type": "stream",
     "text": [
      "The average rent they are paying is: 367.9900360969936\n"
     ]
    }
   ],
   "source": [
    "import statistics\n",
    "rent = [1550,1700,900,850,1000,950]\n",
    "print(\"The average rent they are paying is: %s\" % (statistics.stdev(rent)))"
   ]
  },
  {
   "cell_type": "code",
   "execution_count": 2,
   "metadata": {},
   "outputs": [
    {
     "name": "stdout",
     "output_type": "stream",
     "text": [
      "Trees is California are: 6219.9\n"
     ]
    }
   ],
   "source": [
    "import statistics\n",
    "trees_height = [3,21,98,203,17,9] \n",
    "print(\"Trees is California are: %s\" % (statistics.variance(trees_height)))"
   ]
  },
  {
   "cell_type": "code",
   "execution_count": 3,
   "metadata": {},
   "outputs": [
    {
     "name": "stdout",
     "output_type": "stream",
     "text": [
      "\t\n",
      "Probability of getting failed in 0 subject is 0.8\n",
      "\t\n",
      "Probability of getting failed in 1 subject is 0.1\n",
      "\t\n",
      "Probability of getting failed in 2 subject is 0.07\n",
      "\t\n",
      "Probability of getting failed in 3 subject is 0.03\n"
     ]
    }
   ],
   "source": [
    "x=[80,10,7,3]\n",
    "y=[0,1,2,3]\n",
    "def prob(x):\n",
    "    return x[j]/100\n",
    "for i in range(0,1):\n",
    "    for j in range(0,len(x)):\n",
    "                print('\\t')\n",
    "                print(\"Probability of getting failed in\", y[j],\"subject is\", prob(x))"
   ]
  },
  {
   "cell_type": "markdown",
   "metadata": {},
   "source": [
    "## Statistics 2"
   ]
  },
  {
   "cell_type": "code",
   "execution_count": 4,
   "metadata": {},
   "outputs": [
    {
     "name": "stdout",
     "output_type": "stream",
     "text": [
      "n_fact 2432902008176640000\n",
      "pass_fact 1307674368000\n",
      "fail_fact: 120\n",
      "Probability of exactly 5 question wrong is :  3.4264958230778575e-06\n"
     ]
    }
   ],
   "source": [
    "from functools import reduce\n",
    "n=20\n",
    "s=5\n",
    "k=15\n",
    "\n",
    "p=1/4\n",
    "q=1-p\n",
    "\n",
    "array=[i for i in range(1,21)]\n",
    "n_fact= reduce(lambda x,y : x*y,array)\n",
    "print(\"n_fact\",n_fact)\n",
    "\n",
    "pass_factorial=reduce(lambda x,y : x*y, array[0:15])\n",
    "print(\"pass_fact\", pass_factorial)\n",
    "fail_factorial=reduce(lambda x,y: x*y, array[0:5])\n",
    "print(\"fail_fact:\", fail_factorial)\n",
    "probab=(n_fact/(pass_factorial*fail_factorial))*p**k*q**s\n",
    "print(\"Probability of exactly 5 question wrong is : \",probab)"
   ]
  },
  {
   "cell_type": "code",
   "execution_count": 3,
   "metadata": {},
   "outputs": [
    {
     "name": "stdout",
     "output_type": "stream",
     "text": [
      "4.0\n"
     ]
    }
   ],
   "source": [
    "MCQ = 20\n",
    "wrong = 5\n",
    "determine = MCQ/wrong\n",
    "print(round(determine,5))"
   ]
  },
  {
   "cell_type": "code",
   "execution_count": 2,
   "metadata": {},
   "outputs": [
    {
     "name": "stdout",
     "output_type": "stream",
     "text": [
      "Probability of 'D' coming exactly 5 times:  0.02953120431052317\n"
     ]
    }
   ],
   "source": [
    "from scipy import stats\n",
    "import scipy\n",
    "n = 50\n",
    "p = 1/5\n",
    "\n",
    "probab = stats.binom.pmf(5,n,p)\n",
    "print(\"Probability of 'D' coming exactly 5 times: \",probab)\n",
    "\n"
   ]
  },
  {
   "cell_type": "code",
   "execution_count": 15,
   "metadata": {},
   "outputs": [
    {
     "name": "stdout",
     "output_type": "stream",
     "text": [
      "total possibility of red balls 0.4\n",
      "total possibility of black balls 0.6\n",
      "total possibilities of outcome: 1.0\n"
     ]
    }
   ],
   "source": [
    "import statistics \n",
    "Total_outcomes = 6+4\n",
    "red_balls = 4/10\n",
    "black_balls = 6/10\n",
    "total_possibilities = red_balls+black_balls\n",
    "print(\"total possibility of red balls\",red_balls)\n",
    "print(\"total possibility of black balls\",black_balls)\n",
    "print(\"All possibile outcome:\",total_possibilities)\n"
   ]
  },
  {
   "cell_type": "markdown",
   "metadata": {},
   "source": [
    "## Statistics 3"
   ]
  },
  {
   "cell_type": "code",
   "execution_count": 54,
   "metadata": {},
   "outputs": [
    {
     "name": "stdout",
     "output_type": "stream",
     "text": [
      "You score on test as compared to average test taker is: 0.35406698564593303\n"
     ]
    }
   ],
   "source": [
    "import statistics\n",
    "\n",
    "SAT_score = 1100\n",
    "mean = 1026\n",
    "std = 209\n",
    "your_score = ((1100-1026)/209)\n",
    "print(\"You score on test as compared to average test taker is:\",your_score)"
   ]
  },
  {
   "cell_type": "code",
   "execution_count": 5,
   "metadata": {},
   "outputs": [
    {
     "name": "stdout",
     "output_type": "stream",
     "text": [
      "z_statistics is : 3.2\n",
      "looking this value in Z-table, value of 0.9993, which implies that the probabilityis having value less than 99.93%,\n",
      "it is also that the value is less than 0.05, hence,it is significant and null hypothesis is rejected \n",
      "There is cornstarch effect in research.\n"
     ]
    }
   ],
   "source": [
    "import math\n",
    "mean_glucose=108\n",
    "mu0=100\n",
    "s=15\n",
    "n=36\n",
    "alpha=0.05\n",
    "z_test=(108-100)/(15/math.sqrt(36))\n",
    "print(\"z_statistics is :\", z_test)\n",
    "print(\"looking this value in Z-table, value of 0.9993, which implies that the probabilityis having value less than 99.93%,\\nit is also that the value is less than 0.05, hence,it is significant and null hypothesis is rejected \\nThere is cornstarch effect in research.\")\n",
    "\n"
   ]
  },
  {
   "cell_type": "code",
   "execution_count": 6,
   "metadata": {},
   "outputs": [
    {
     "name": "stdout",
     "output_type": "stream",
     "text": [
      "Mu: 0.050000000000000044 Std:  0.07061869440877536\n",
      "Z_score(P_1,P_2):  -0.7080278164104213\n",
      "Survey in the research shows that there is greater probability of Republican \n"
     ]
    }
   ],
   "source": [
    "N1=100\n",
    "N2=100\n",
    "p1=.52\n",
    "q1=.48\n",
    "p2=.47\n",
    "q2=.53\n",
    "mu=p1-p2\n",
    "s=math.sqrt(((p1*q1/N1)+(p2*q2/N2)))\n",
    "print(\"Mu:\", mu, \"Std: \",s)\n",
    "x=0\n",
    "Z=(x-mu)/s\n",
    "print(\"Z_score(P_1,P_2): \", Z)\n",
    "\n",
    "print(\"Survey in the research shows that there is greater probability of Republican \")"
   ]
  },
  {
   "cell_type": "code",
   "execution_count": 8,
   "metadata": {},
   "outputs": [
    {
     "name": "stdout",
     "output_type": "stream",
     "text": [
      "[40, 44, 53, 57, 60, 54, 46, 41]\n",
      "     Education  Marks Sex\n",
      "0  High_school     40   M\n",
      "1    Bachelors     44   M\n",
      "2      Masters     53   M\n",
      "3         Ph.d     57   M\n",
      "4  High_school     60   F\n",
      "5    Bachelors     54   F\n",
      "6      Masters     46   F\n",
      "7         Ph.d     41   F\n"
     ]
    },
    {
     "data": {
      "text/html": [
       "<div>\n",
       "<style scoped>\n",
       "    .dataframe tbody tr th:only-of-type {\n",
       "        vertical-align: middle;\n",
       "    }\n",
       "\n",
       "    .dataframe tbody tr th {\n",
       "        vertical-align: top;\n",
       "    }\n",
       "\n",
       "    .dataframe thead th {\n",
       "        text-align: right;\n",
       "    }\n",
       "</style>\n",
       "<table border=\"1\" class=\"dataframe\">\n",
       "  <thead>\n",
       "    <tr style=\"text-align: right;\">\n",
       "      <th></th>\n",
       "      <th>Education</th>\n",
       "      <th>Bachelors</th>\n",
       "      <th>High_school</th>\n",
       "      <th>Masters</th>\n",
       "      <th>Ph.d</th>\n",
       "      <th>All</th>\n",
       "    </tr>\n",
       "    <tr>\n",
       "      <th>Sex</th>\n",
       "      <th>Marks</th>\n",
       "      <th></th>\n",
       "      <th></th>\n",
       "      <th></th>\n",
       "      <th></th>\n",
       "      <th></th>\n",
       "    </tr>\n",
       "  </thead>\n",
       "  <tbody>\n",
       "    <tr>\n",
       "      <th rowspan=\"4\" valign=\"top\">F</th>\n",
       "      <th>41</th>\n",
       "      <td>0</td>\n",
       "      <td>0</td>\n",
       "      <td>0</td>\n",
       "      <td>1</td>\n",
       "      <td>1</td>\n",
       "    </tr>\n",
       "    <tr>\n",
       "      <th>46</th>\n",
       "      <td>0</td>\n",
       "      <td>0</td>\n",
       "      <td>1</td>\n",
       "      <td>0</td>\n",
       "      <td>1</td>\n",
       "    </tr>\n",
       "    <tr>\n",
       "      <th>54</th>\n",
       "      <td>1</td>\n",
       "      <td>0</td>\n",
       "      <td>0</td>\n",
       "      <td>0</td>\n",
       "      <td>1</td>\n",
       "    </tr>\n",
       "    <tr>\n",
       "      <th>60</th>\n",
       "      <td>0</td>\n",
       "      <td>1</td>\n",
       "      <td>0</td>\n",
       "      <td>0</td>\n",
       "      <td>1</td>\n",
       "    </tr>\n",
       "    <tr>\n",
       "      <th rowspan=\"4\" valign=\"top\">M</th>\n",
       "      <th>40</th>\n",
       "      <td>0</td>\n",
       "      <td>1</td>\n",
       "      <td>0</td>\n",
       "      <td>0</td>\n",
       "      <td>1</td>\n",
       "    </tr>\n",
       "    <tr>\n",
       "      <th>44</th>\n",
       "      <td>1</td>\n",
       "      <td>0</td>\n",
       "      <td>0</td>\n",
       "      <td>0</td>\n",
       "      <td>1</td>\n",
       "    </tr>\n",
       "    <tr>\n",
       "      <th>53</th>\n",
       "      <td>0</td>\n",
       "      <td>0</td>\n",
       "      <td>1</td>\n",
       "      <td>0</td>\n",
       "      <td>1</td>\n",
       "    </tr>\n",
       "    <tr>\n",
       "      <th>57</th>\n",
       "      <td>0</td>\n",
       "      <td>0</td>\n",
       "      <td>0</td>\n",
       "      <td>1</td>\n",
       "      <td>1</td>\n",
       "    </tr>\n",
       "    <tr>\n",
       "      <th>All</th>\n",
       "      <th></th>\n",
       "      <td>2</td>\n",
       "      <td>2</td>\n",
       "      <td>2</td>\n",
       "      <td>2</td>\n",
       "      <td>8</td>\n",
       "    </tr>\n",
       "  </tbody>\n",
       "</table>\n",
       "</div>"
      ],
      "text/plain": [
       "Education  Bachelors  High_school  Masters  Ph.d  All\n",
       "Sex Marks                                            \n",
       "F   41             0            0        0     1    1\n",
       "    46             0            0        1     0    1\n",
       "    54             1            0        0     0    1\n",
       "    60             0            1        0     0    1\n",
       "M   40             0            1        0     0    1\n",
       "    44             1            0        0     0    1\n",
       "    53             0            0        1     0    1\n",
       "    57             0            0        0     1    1\n",
       "All                2            2        2     2    8"
      ]
     },
     "execution_count": 8,
     "metadata": {},
     "output_type": "execute_result"
    }
   ],
   "source": [
    "import numpy as np\n",
    "import pandas as pd\n",
    "import scipy.stats as stats\n",
    "\n",
    "female=[60,54,46,41]\n",
    "male=[40,44,53,57]\n",
    "High_school=[60,40]\n",
    "Bachelors=[54,44]\n",
    "Masters=[46,53]\n",
    "Phd=[41,57]\n",
    "marks=male+female\n",
    "\n",
    "print(marks)\n",
    "sex=['M','M','M','M','F','F','F','F']\n",
    "education=[\"High_school\",\"Bachelors\",\"Masters\",\"Ph.d\",\"High_school\",\"Bachelors\",\"Masters\",\"Ph.d\"]\n",
    "df=pd.DataFrame({\"Education\":education,\"Marks\":marks,\"Sex\":sex})\n",
    "print(df)\n",
    "cross_tab=pd.crosstab([df.Sex,df.Marks],df.Education,margins=True)\n",
    "cross_tab"
   ]
  },
  {
   "cell_type": "code",
   "execution_count": 10,
   "metadata": {},
   "outputs": [
    {
     "data": {
      "text/html": [
       "<div>\n",
       "<style scoped>\n",
       "    .dataframe tbody tr th:only-of-type {\n",
       "        vertical-align: middle;\n",
       "    }\n",
       "\n",
       "    .dataframe tbody tr th {\n",
       "        vertical-align: top;\n",
       "    }\n",
       "\n",
       "    .dataframe thead th {\n",
       "        text-align: right;\n",
       "    }\n",
       "</style>\n",
       "<table border=\"1\" class=\"dataframe\">\n",
       "  <thead>\n",
       "    <tr style=\"text-align: right;\">\n",
       "      <th>Education</th>\n",
       "      <th>Bachelors</th>\n",
       "      <th>High_school</th>\n",
       "      <th>Masters</th>\n",
       "      <th>Ph.d</th>\n",
       "      <th>All</th>\n",
       "    </tr>\n",
       "    <tr>\n",
       "      <th>Sex</th>\n",
       "      <th></th>\n",
       "      <th></th>\n",
       "      <th></th>\n",
       "      <th></th>\n",
       "      <th></th>\n",
       "    </tr>\n",
       "  </thead>\n",
       "  <tbody>\n",
       "    <tr>\n",
       "      <th>F</th>\n",
       "      <td>54</td>\n",
       "      <td>60</td>\n",
       "      <td>46</td>\n",
       "      <td>41</td>\n",
       "      <td>201</td>\n",
       "    </tr>\n",
       "    <tr>\n",
       "      <th>M</th>\n",
       "      <td>44</td>\n",
       "      <td>40</td>\n",
       "      <td>53</td>\n",
       "      <td>57</td>\n",
       "      <td>194</td>\n",
       "    </tr>\n",
       "    <tr>\n",
       "      <th>All</th>\n",
       "      <td>98</td>\n",
       "      <td>100</td>\n",
       "      <td>99</td>\n",
       "      <td>98</td>\n",
       "      <td>395</td>\n",
       "    </tr>\n",
       "  </tbody>\n",
       "</table>\n",
       "</div>"
      ],
      "text/plain": [
       "Education  Bachelors  High_school  Masters  Ph.d  All\n",
       "Sex                                                  \n",
       "F                 54           60       46    41  201\n",
       "M                 44           40       53    57  194\n",
       "All               98          100       99    98  395"
      ]
     },
     "execution_count": 10,
     "metadata": {},
     "output_type": "execute_result"
    }
   ],
   "source": [
    "df1=pd.crosstab(df.Sex, df.Education,df.Marks, aggfunc=\"sum\",margins=True)\n",
    "df1"
   ]
  },
  {
   "cell_type": "code",
   "execution_count": 11,
   "metadata": {},
   "outputs": [
    {
     "data": {
      "text/html": [
       "<div>\n",
       "<style scoped>\n",
       "    .dataframe tbody tr th:only-of-type {\n",
       "        vertical-align: middle;\n",
       "    }\n",
       "\n",
       "    .dataframe tbody tr th {\n",
       "        vertical-align: top;\n",
       "    }\n",
       "\n",
       "    .dataframe thead th {\n",
       "        text-align: right;\n",
       "    }\n",
       "</style>\n",
       "<table border=\"1\" class=\"dataframe\">\n",
       "  <thead>\n",
       "    <tr style=\"text-align: right;\">\n",
       "      <th></th>\n",
       "      <th>Bachelors</th>\n",
       "      <th>High_school</th>\n",
       "      <th>Masters</th>\n",
       "      <th>Ph.d</th>\n",
       "    </tr>\n",
       "  </thead>\n",
       "  <tbody>\n",
       "    <tr>\n",
       "      <th>Female</th>\n",
       "      <td>54</td>\n",
       "      <td>60</td>\n",
       "      <td>46</td>\n",
       "      <td>41</td>\n",
       "    </tr>\n",
       "    <tr>\n",
       "      <th>Male</th>\n",
       "      <td>44</td>\n",
       "      <td>40</td>\n",
       "      <td>53</td>\n",
       "      <td>57</td>\n",
       "    </tr>\n",
       "  </tbody>\n",
       "</table>\n",
       "</div>"
      ],
      "text/plain": [
       "        Bachelors  High_school  Masters  Ph.d\n",
       "Female         54           60       46    41\n",
       "Male           44           40       53    57"
      ]
     },
     "execution_count": 11,
     "metadata": {},
     "output_type": "execute_result"
    }
   ],
   "source": [
    "df1.columns=[\"Bachelors\",\"High_school\",\"Masters\",\"Ph.d\",\"Genderwise_total\"]\n",
    "df1.index=[\"Female\",\"Male\",\"Combined\"]\n",
    "df1\n",
    "\n",
    "df2=df1.iloc[0:2,0:4]\n",
    "df2"
   ]
  },
  {
   "cell_type": "code",
   "execution_count": 12,
   "metadata": {},
   "outputs": [
    {
     "data": {
      "text/html": [
       "<div>\n",
       "<style scoped>\n",
       "    .dataframe tbody tr th:only-of-type {\n",
       "        vertical-align: middle;\n",
       "    }\n",
       "\n",
       "    .dataframe tbody tr th {\n",
       "        vertical-align: top;\n",
       "    }\n",
       "\n",
       "    .dataframe thead th {\n",
       "        text-align: right;\n",
       "    }\n",
       "</style>\n",
       "<table border=\"1\" class=\"dataframe\">\n",
       "  <thead>\n",
       "    <tr style=\"text-align: right;\">\n",
       "      <th></th>\n",
       "      <th>Bachelors</th>\n",
       "      <th>High_School</th>\n",
       "      <th>Masters</th>\n",
       "      <th>Ph.d</th>\n",
       "    </tr>\n",
       "  </thead>\n",
       "  <tbody>\n",
       "    <tr>\n",
       "      <th>Female</th>\n",
       "      <td>49.868354</td>\n",
       "      <td>50.886076</td>\n",
       "      <td>50.377215</td>\n",
       "      <td>49.868354</td>\n",
       "    </tr>\n",
       "    <tr>\n",
       "      <th>Male</th>\n",
       "      <td>48.131646</td>\n",
       "      <td>49.113924</td>\n",
       "      <td>48.622785</td>\n",
       "      <td>48.131646</td>\n",
       "    </tr>\n",
       "  </tbody>\n",
       "</table>\n",
       "</div>"
      ],
      "text/plain": [
       "        Bachelors  High_School    Masters       Ph.d\n",
       "Female  49.868354    50.886076  50.377215  49.868354\n",
       "Male    48.131646    49.113924  48.622785  48.131646"
      ]
     },
     "execution_count": 12,
     "metadata": {},
     "output_type": "execute_result"
    }
   ],
   "source": [
    "df3=np.outer(df1[\"Genderwise_total\"][0:2],df1.loc[\"Combined\"][0:4])/395.0\n",
    "df3=pd.DataFrame(df3)\n",
    "df3.columns=[\"Bachelors\",\"High_School\",\"Masters\",\"Ph.d\"]\n",
    "df3.index=[\"Female\",\"Male\"]\n",
    "df3"
   ]
  },
  {
   "cell_type": "code",
   "execution_count": 13,
   "metadata": {},
   "outputs": [
    {
     "name": "stdout",
     "output_type": "stream",
     "text": [
      "4.682478001917256\n"
     ]
    }
   ],
   "source": [
    "chi_squared_stat=(((df3-df2)**2)/df3).sum().sum()\n",
    "print(chi_squared_stat)"
   ]
  },
  {
   "cell_type": "code",
   "execution_count": 14,
   "metadata": {},
   "outputs": [
    {
     "name": "stdout",
     "output_type": "stream",
     "text": [
      "Critical value\n",
      "7.814727903251179\n"
     ]
    }
   ],
   "source": [
    "cvalue=stats.chi2.ppf(q=0.95,df=3)\n",
    "print(\"Critical value\")\n",
    "print(cvalue)"
   ]
  },
  {
   "cell_type": "code",
   "execution_count": 15,
   "metadata": {},
   "outputs": [
    {
     "name": "stdout",
     "output_type": "stream",
     "text": [
      "P value\n",
      "0.19657984145597762\n"
     ]
    }
   ],
   "source": [
    "p_value=1-stats.chi2.cdf(x=chi_squared_stat,df=3)\n",
    "print(\"P value\")\n",
    "print(p_value)"
   ]
  },
  {
   "cell_type": "code",
   "execution_count": 16,
   "metadata": {},
   "outputs": [
    {
     "name": "stdout",
     "output_type": "stream",
     "text": [
      "(8.006066246262538, 0.045886500891747214, 3, array([[49.86835443, 50.88607595, 50.37721519, 49.86835443],\n",
      "       [48.13164557, 49.11392405, 48.62278481, 48.13164557]]))\n",
      "*******************************************************************************************************************\n",
      "The outpout shows the chi-square statistics= 8, the p-value as 0.045 and the degrees of freedom as 3\n",
      "The critical value with 3 degree of freedom is 7.815. Since 8.006>7.815, therefore we reject the null hypothesis and conclude that the education level depends on gender at a 5% level of significance.\n"
     ]
    }
   ],
   "source": [
    "result=stats.chi2_contingency(observed=df2)\n",
    "print(result)\n",
    "print('*'*115)\n",
    "print(\"The outpout shows the chi-square statistics= 8, the p-value as 0.045 and the degrees of freedom as 3\")\n",
    "print(\"The critical value with 3 degree of freedom is 7.815. Since 8.006>7.815, therefore we reject the null hypothesis and conclude that the education level depends on gender at a 5% level of significance.\")"
   ]
  },
  {
   "cell_type": "code",
   "execution_count": null,
   "metadata": {},
   "outputs": [],
   "source": []
  }
 ],
 "metadata": {
  "kernelspec": {
   "display_name": "Python 3",
   "language": "python",
   "name": "python3"
  },
  "language_info": {
   "codemirror_mode": {
    "name": "ipython",
    "version": 3
   },
   "file_extension": ".py",
   "mimetype": "text/x-python",
   "name": "python",
   "nbconvert_exporter": "python",
   "pygments_lexer": "ipython3",
   "version": "3.7.3"
  }
 },
 "nbformat": 4,
 "nbformat_minor": 2
}
