{
 "cells": [
  {
   "cell_type": "markdown",
   "metadata": {},
   "source": [
    "# Assingment No 3"
   ]
  },
  {
   "cell_type": "markdown",
   "metadata": {},
   "source": [
    "## Statistics 1"
   ]
  },
  {
   "cell_type": "code",
   "execution_count": 1,
   "metadata": {},
   "outputs": [
    {
     "name": "stdout",
     "output_type": "stream",
     "text": [
      "The average rent they are paying is: 367.9900360969936\n"
     ]
    }
   ],
   "source": [
    "import statistics\n",
    "rent = [1550,1700,900,850,1000,950]\n",
    "print(\"The average rent they are paying is: %s\" % (statistics.stdev(rent)))"
   ]
  },
  {
   "cell_type": "code",
   "execution_count": 2,
   "metadata": {},
   "outputs": [
    {
     "name": "stdout",
     "output_type": "stream",
     "text": [
      "Trees is California are: 6219.9\n"
     ]
    }
   ],
   "source": [
    "import statistics\n",
    "trees_height = [3,21,98,203,17,9] \n",
    "print(\"Trees is California are: %s\" % (statistics.variance(trees_height)))"
   ]
  },
  {
   "cell_type": "markdown",
   "metadata": {},
   "source": [
    "## Statistics 2"
   ]
  },
  {
   "cell_type": "code",
   "execution_count": 3,
   "metadata": {},
   "outputs": [
    {
     "name": "stdout",
     "output_type": "stream",
     "text": [
      "4.0\n"
     ]
    }
   ],
   "source": [
    "MCQ = 20\n",
    "wrong = 5\n",
    "determine = MCQ/wrong\n",
    "print(round(determine,5))"
   ]
  },
  {
   "cell_type": "code",
   "execution_count": 12,
   "metadata": {},
   "outputs": [
    {
     "name": "stdout",
     "output_type": "stream",
     "text": [
      "D exactly 5 times: 0.2\n"
     ]
    }
   ],
   "source": [
    "import statistics \n",
    "rolled_dice = 50 \n",
    "value = (1/5)\n",
    "print(\"D exactly 5 times:\",value)\n",
    "\n"
   ]
  },
  {
   "cell_type": "code",
   "execution_count": 15,
   "metadata": {},
   "outputs": [
    {
     "name": "stdout",
     "output_type": "stream",
     "text": [
      "total possibility of red balls 0.4\n",
      "total possibility of black balls 0.6\n",
      "total possibilities of outcome: 1.0\n"
     ]
    }
   ],
   "source": [
    "import statistics \n",
    "Total_outcomes = 6+4\n",
    "red_balls = 4/10\n",
    "black_balls = 6/10\n",
    "total_possibilities = red_balls+black_balls\n",
    "print(\"total possibility of red balls\",red_balls)\n",
    "print(\"total possibility of black balls\",black_balls)\n",
    "print(\"All possibile outcome:\",total_possibilities)\n"
   ]
  },
  {
   "cell_type": "markdown",
   "metadata": {},
   "source": [
    "## Statistics 3"
   ]
  },
  {
   "cell_type": "code",
   "execution_count": 54,
   "metadata": {},
   "outputs": [
    {
     "name": "stdout",
     "output_type": "stream",
     "text": [
      "You score on test as compared to average test taker is: 0.35406698564593303\n"
     ]
    }
   ],
   "source": [
    "import statistics\n",
    "\n",
    "SAT_score = 1100\n",
    "mean = 1026\n",
    "std = 209\n",
    "your_score = ((1100-1026)/209)\n",
    "print(\"You score on test as compared to average test taker is:\",your_score)"
   ]
  },
  {
   "cell_type": "code",
   "execution_count": null,
   "metadata": {},
   "outputs": [],
   "source": []
  }
 ],
 "metadata": {
  "kernelspec": {
   "display_name": "Python 3",
   "language": "python",
   "name": "python3"
  },
  "language_info": {
   "codemirror_mode": {
    "name": "ipython",
    "version": 3
   },
   "file_extension": ".py",
   "mimetype": "text/x-python",
   "name": "python",
   "nbconvert_exporter": "python",
   "pygments_lexer": "ipython3",
   "version": "3.7.3"
  }
 },
 "nbformat": 4,
 "nbformat_minor": 2
}
